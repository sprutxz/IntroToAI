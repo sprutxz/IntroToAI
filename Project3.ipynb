{
 "cells": [
  {
   "cell_type": "markdown",
   "metadata": {},
   "source": [
    "# Project 3"
   ]
  },
  {
   "cell_type": "markdown",
   "metadata": {},
   "source": [
    "Required libraries imported below"
   ]
  },
  {
   "cell_type": "code",
   "execution_count": 25,
   "metadata": {},
   "outputs": [],
   "source": [
    "import matplotlib as plt\n",
    "import numpy as np\n",
    "import random"
   ]
  },
  {
   "cell_type": "markdown",
   "metadata": {},
   "source": [
    "Data Generation"
   ]
  },
  {
   "cell_type": "code",
   "execution_count": 41,
   "metadata": {},
   "outputs": [],
   "source": [
    "def is_dangerous(color_choices):\n",
    "    if 3 in color_choices and 1 not in color_choices:\n",
    "        return True\n",
    "    return False\n",
    "\n",
    "def one_hot_encode(color):\n",
    "    arr = np.zeros(4)    \n",
    "    arr[color-1] = 1\n",
    "    return arr\n",
    "    \n",
    "def generate_wiring_diagram(part): #part signfies the part of the project the data is being generated for (1 or 2)\n",
    "    if part != 1 and part != 2:\n",
    "        print(\"invalid parameter values entered while calling generate_wiring_diagram(part) function, part can either be 1 or 2\")\n",
    "        return\n",
    "    \n",
    "    diagram = np.zeros((20,20,4), dtype=int) # Initializing a 20x20 blank diagram\n",
    "    color_choices = [1, 2, 3, 4] # 1: Red, 2: Blue, 3: Yellow, 4: Green\n",
    "    row_choices = list(range(0,20))\n",
    "    col_choices= list(range(0,20))\n",
    "    dangerous = False\n",
    "    wire_to_cut = [0,0,0,0]\n",
    "\n",
    "    start_with_row = random.choice([True, False])\n",
    "    \n",
    "    if start_with_row:\n",
    "        for i in range(4):\n",
    "            if i%2 == 0:\n",
    "                row = random.choice(row_choices)\n",
    "                color = random.choice(color_choices)\n",
    "                diagram[row, :] = one_hot_encode(color)\n",
    "                row_choices.remove(row)\n",
    "                color_choices.remove(color)\n",
    "                if not dangerous:\n",
    "                    dangerous = is_dangerous(color_choices)\n",
    "            else:\n",
    "                col = random.choice(col_choices)\n",
    "                color = random.choice(color_choices)\n",
    "                diagram[:, col] = one_hot_encode(color)\n",
    "                col_choices.remove(col)\n",
    "                color_choices.remove(color)\n",
    "                if i == 1 and not dangerous:\n",
    "                    dangerous = is_dangerous(color_choices)\n",
    "                    \n",
    "            if dangerous and i==3:\n",
    "                wire_to_cut = one_hot_encode(color)\n",
    "                \n",
    "    else:\n",
    "        for i in range(4):\n",
    "            if i%2 == 0:\n",
    "                col = random.choice(col_choices)\n",
    "                color = random.choice(color_choices)\n",
    "                diagram[col, :] = one_hot_encode(color)\n",
    "                col_choices.remove(col)\n",
    "                color_choices.remove(color)\n",
    "                if not dangerous:\n",
    "                    dangerous = is_dangerous(color_choices)\n",
    "            else:\n",
    "                row = random.choice(row_choices)\n",
    "                color = random.choice(color_choices)\n",
    "                diagram[:, row] = one_hot_encode(color)\n",
    "                row_choices.remove(row)\n",
    "                color_choices.remove(color)\n",
    "                if i == 1 and not dangerous:\n",
    "                    dangerous = is_dangerous(color_choices)\n",
    "                    \n",
    "            if dangerous and i==3:\n",
    "                wire_to_cut = one_hot_encode(color)\n",
    "\n",
    "    if part == 1: \n",
    "        return diagram, dangerous\n",
    "    elif part == 2:\n",
    "        return diagram, wire_to_cut\n",
    "        \n"
   ]
  },
  {
   "cell_type": "markdown",
   "metadata": {},
   "source": [
    "Memory Class to store dataset"
   ]
  },
  {
   "cell_type": "code",
   "execution_count": 37,
   "metadata": {},
   "outputs": [],
   "source": [
    "# Creating a class to create our \"dataset\" for model training\n",
    "class Memory:\n",
    "    # Constructor\n",
    "    def __init__(self, max_memory):\n",
    "        self.max_memory = max_memory # maximum amount of samples to remember\n",
    "        self.samples = [] # the samples\n",
    "\n",
    "    # Adding a sample to memory\n",
    "    def add_sample(self, diagram_vector, y):\n",
    "        self.samples.append((diagram_vector, y))\n",
    "        if len(self.samples) > self.max_memory: # Removing the earliest sample if we reach maximum memory\n",
    "            self.samples.pop(0)\n",
    "\n",
    "    # Sampling the samples we have in memory\n",
    "    def sample(self, no_samples): #no_samples is the number of samples you need\n",
    "        if no_samples > len(self.samples):\n",
    "            return random.sample(self.samples, len(self.samples))\n",
    "        else:\n",
    "            return random.sample(self.samples, no_samples)"
   ]
  },
  {
   "cell_type": "markdown",
   "metadata": {},
   "source": [
    "Data generation for part 1"
   ]
  },
  {
   "cell_type": "code",
   "execution_count": 49,
   "metadata": {},
   "outputs": [
    {
     "name": "stdout",
     "output_type": "stream",
     "text": [
      "[0 0 0 ... 0 0 0]\n",
      "[[0 0 0 0]\n",
      " [0 0 0 0]\n",
      " [1 0 0 0]\n",
      " ...\n",
      " [0 0 0 0]\n",
      " [0 0 0 0]\n",
      " [0 0 0 0]]\n",
      "0000000010000000000000000100000000000000000000000000000000000000000000000000000000010001100000010001000101000001000100010001000100010001000100010001000100010001000000001000000000000000010000000000000000000000000000000000000000000000000000000000000010000000000000000100000000000000000000000000000000000000000000000000000000000000100000000000000001000000000000000000000000000000000000000000000000000000000000001000000000000000010000000000000000000000000000000000000000000000000000000000000010000000000000000100000000000000000000000000000000000000000000000000000000000000100000000000000001000000000000000000000000000000000000000000000000000000001000100010001000100010010000100010001000100010001000100010001000100010001000100000000010000000000000000100000000000000000000000000000000000000000000000000000000000000100000000000000001000000000000000000000000000000000000000000000000000000000000001000000000000000010000000000000000000000000000000000000000000000000000000000000010000000000000000100000000000000000000000000000000000000000000000000000000000000100000000000000001000000000000000000000000000000000000000000000000000000000000001000000000000000010000000000000000000000000000000000000000000000000000000000000010000000000000000100000000000000000000000000000000000000000000000000000000000000100000000000000001000000000000000000000000000000000000000000000000000000000000001000000000000000010000000000000000000000000000000000000000000000000000000000000010000000000000000100000000000000000000000000000000000000000000000000000000000000100000000000000001000000000000000000000000000000000000000000000000000000\n",
      "[0 0 0 0][0 0 0 0][1 0 0 0][0 0 0 0][0 0 0 0][0 0 0 0][0 1 0 0][0 0 0 0][0 0 0 0][0 0 0 0][0 0 0 0][0 0 0 0][0 0 0 0][0 0 0 0][0 0 0 0][0 0 0 0][0 0 0 0][0 0 0 0][0 0 0 0][0 0 0 0][0 0 0 1][0 0 0 1][1 0 0 0][0 0 0 1][0 0 0 1][0 0 0 1][0 1 0 0][0 0 0 1][0 0 0 1][0 0 0 1][0 0 0 1][0 0 0 1][0 0 0 1][0 0 0 1][0 0 0 1][0 0 0 1][0 0 0 1][0 0 0 1][0 0 0 1][0 0 0 1][0 0 0 0][0 0 0 0][1 0 0 0][0 0 0 0][0 0 0 0][0 0 0 0][0 1 0 0][0 0 0 0][0 0 0 0][0 0 0 0][0 0 0 0][0 0 0 0][0 0 0 0][0 0 0 0][0 0 0 0][0 0 0 0][0 0 0 0][0 0 0 0][0 0 0 0][0 0 0 0][0 0 0 0][0 0 0 0][1 0 0 0][0 0 0 0][0 0 0 0][0 0 0 0][0 1 0 0][0 0 0 0][0 0 0 0][0 0 0 0][0 0 0 0][0 0 0 0][0 0 0 0][0 0 0 0][0 0 0 0][0 0 0 0][0 0 0 0][0 0 0 0][0 0 0 0][0 0 0 0][0 0 0 0][0 0 0 0][1 0 0 0][0 0 0 0][0 0 0 0][0 0 0 0][0 1 0 0][0 0 0 0][0 0 0 0][0 0 0 0][0 0 0 0][0 0 0 0][0 0 0 0][0 0 0 0][0 0 0 0][0 0 0 0][0 0 0 0][0 0 0 0][0 0 0 0][0 0 0 0][0 0 0 0][0 0 0 0][1 0 0 0][0 0 0 0][0 0 0 0][0 0 0 0][0 1 0 0][0 0 0 0][0 0 0 0][0 0 0 0][0 0 0 0][0 0 0 0][0 0 0 0][0 0 0 0][0 0 0 0][0 0 0 0][0 0 0 0][0 0 0 0][0 0 0 0][0 0 0 0][0 0 0 0][0 0 0 0][1 0 0 0][0 0 0 0][0 0 0 0][0 0 0 0][0 1 0 0][0 0 0 0][0 0 0 0][0 0 0 0][0 0 0 0][0 0 0 0][0 0 0 0][0 0 0 0][0 0 0 0][0 0 0 0][0 0 0 0][0 0 0 0][0 0 0 0][0 0 0 0][0 0 0 0][0 0 0 0][1 0 0 0][0 0 0 0][0 0 0 0][0 0 0 0][0 1 0 0][0 0 0 0][0 0 0 0][0 0 0 0][0 0 0 0][0 0 0 0][0 0 0 0][0 0 0 0][0 0 0 0][0 0 0 0][0 0 0 0][0 0 0 0][0 0 0 0][0 0 0 0][0 0 1 0][0 0 1 0][0 0 1 0][0 0 1 0][0 0 1 0][0 0 1 0][0 1 0 0][0 0 1 0][0 0 1 0][0 0 1 0][0 0 1 0][0 0 1 0][0 0 1 0][0 0 1 0][0 0 1 0][0 0 1 0][0 0 1 0][0 0 1 0][0 0 1 0][0 0 1 0][0 0 0 0][0 0 0 0][1 0 0 0][0 0 0 0][0 0 0 0][0 0 0 0][0 1 0 0][0 0 0 0][0 0 0 0][0 0 0 0][0 0 0 0][0 0 0 0][0 0 0 0][0 0 0 0][0 0 0 0][0 0 0 0][0 0 0 0][0 0 0 0][0 0 0 0][0 0 0 0][0 0 0 0][0 0 0 0][1 0 0 0][0 0 0 0][0 0 0 0][0 0 0 0][0 1 0 0][0 0 0 0][0 0 0 0][0 0 0 0][0 0 0 0][0 0 0 0][0 0 0 0][0 0 0 0][0 0 0 0][0 0 0 0][0 0 0 0][0 0 0 0][0 0 0 0][0 0 0 0][0 0 0 0][0 0 0 0][1 0 0 0][0 0 0 0][0 0 0 0][0 0 0 0][0 1 0 0][0 0 0 0][0 0 0 0][0 0 0 0][0 0 0 0][0 0 0 0][0 0 0 0][0 0 0 0][0 0 0 0][0 0 0 0][0 0 0 0][0 0 0 0][0 0 0 0][0 0 0 0][0 0 0 0][0 0 0 0][1 0 0 0][0 0 0 0][0 0 0 0][0 0 0 0][0 1 0 0][0 0 0 0][0 0 0 0][0 0 0 0][0 0 0 0][0 0 0 0][0 0 0 0][0 0 0 0][0 0 0 0][0 0 0 0][0 0 0 0][0 0 0 0][0 0 0 0][0 0 0 0][0 0 0 0][0 0 0 0][1 0 0 0][0 0 0 0][0 0 0 0][0 0 0 0][0 1 0 0][0 0 0 0][0 0 0 0][0 0 0 0][0 0 0 0][0 0 0 0][0 0 0 0][0 0 0 0][0 0 0 0][0 0 0 0][0 0 0 0][0 0 0 0][0 0 0 0][0 0 0 0][0 0 0 0][0 0 0 0][1 0 0 0][0 0 0 0][0 0 0 0][0 0 0 0][0 1 0 0][0 0 0 0][0 0 0 0][0 0 0 0][0 0 0 0][0 0 0 0][0 0 0 0][0 0 0 0][0 0 0 0][0 0 0 0][0 0 0 0][0 0 0 0][0 0 0 0][0 0 0 0][0 0 0 0][0 0 0 0][1 0 0 0][0 0 0 0][0 0 0 0][0 0 0 0][0 1 0 0][0 0 0 0][0 0 0 0][0 0 0 0][0 0 0 0][0 0 0 0][0 0 0 0][0 0 0 0][0 0 0 0][0 0 0 0][0 0 0 0][0 0 0 0][0 0 0 0][0 0 0 0][0 0 0 0][0 0 0 0][1 0 0 0][0 0 0 0][0 0 0 0][0 0 0 0][0 1 0 0][0 0 0 0][0 0 0 0][0 0 0 0][0 0 0 0][0 0 0 0][0 0 0 0][0 0 0 0][0 0 0 0][0 0 0 0][0 0 0 0][0 0 0 0][0 0 0 0][0 0 0 0][0 0 0 0][0 0 0 0][1 0 0 0][0 0 0 0][0 0 0 0][0 0 0 0][0 1 0 0][0 0 0 0][0 0 0 0][0 0 0 0][0 0 0 0][0 0 0 0][0 0 0 0][0 0 0 0][0 0 0 0][0 0 0 0][0 0 0 0][0 0 0 0][0 0 0 0][0 0 0 0][0 0 0 0][0 0 0 0][1 0 0 0][0 0 0 0][0 0 0 0][0 0 0 0][0 1 0 0][0 0 0 0][0 0 0 0][0 0 0 0][0 0 0 0][0 0 0 0][0 0 0 0][0 0 0 0][0 0 0 0][0 0 0 0][0 0 0 0][0 0 0 0][0 0 0 0][0 0 0 0][0 0 0 0][0 0 0 0][1 0 0 0][0 0 0 0][0 0 0 0][0 0 0 0][0 1 0 0][0 0 0 0][0 0 0 0][0 0 0 0][0 0 0 0][0 0 0 0][0 0 0 0][0 0 0 0][0 0 0 0][0 0 0 0][0 0 0 0][0 0 0 0][0 0 0 0][0 0 0 0]"
     ]
    }
   ],
   "source": [
    "diagrams = 5000 #number of max diagrams to be stored in Memory class\n",
    "memory = Memory(diagrams) #more than diagrams and the oldest diagram stored will be removed\n",
    "for i in range(diagrams):\n",
    "    diagram, y = generate_wiring_diagram(1) #type:ignore\n",
    "    memory.add_sample(diagram, y)\n",
    "list1 = memory.sample(500)\n",
    "\n",
    "arr1 = (list1[0])[0].flatten()\n",
    "arr2 = (list1[0])[0].reshape(-1,4)\n",
    "print(arr1)\n",
    "print(arr2)\n",
    "for i in arr1:\n",
    "    print(i, end = \"\")\n",
    "print()\n",
    "for i in arr2:\n",
    "    print(i, end = \"\")\n"
   ]
  },
  {
   "cell_type": "markdown",
   "metadata": {},
   "source": [
    "Data generation for part 2"
   ]
  },
  {
   "cell_type": "code",
   "execution_count": 33,
   "metadata": {},
   "outputs": [
    {
     "name": "stdout",
     "output_type": "stream",
     "text": [
      "[[0 2 0 0 0 0 0 0 0 0 0 0 0 0 0 3 0 0 0 0]\n",
      " [0 2 0 0 0 0 0 0 0 0 0 0 0 0 0 3 0 0 0 0]\n",
      " [0 2 0 0 0 0 0 0 0 0 0 0 0 0 0 3 0 0 0 0]\n",
      " [4 2 4 4 4 4 4 4 4 4 4 4 4 4 4 3 4 4 4 4]\n",
      " [0 2 0 0 0 0 0 0 0 0 0 0 0 0 0 3 0 0 0 0]\n",
      " [0 2 0 0 0 0 0 0 0 0 0 0 0 0 0 3 0 0 0 0]\n",
      " [0 2 0 0 0 0 0 0 0 0 0 0 0 0 0 3 0 0 0 0]\n",
      " [0 2 0 0 0 0 0 0 0 0 0 0 0 0 0 3 0 0 0 0]\n",
      " [0 2 0 0 0 0 0 0 0 0 0 0 0 0 0 3 0 0 0 0]\n",
      " [0 2 0 0 0 0 0 0 0 0 0 0 0 0 0 3 0 0 0 0]\n",
      " [0 2 0 0 0 0 0 0 0 0 0 0 0 0 0 3 0 0 0 0]\n",
      " [0 2 0 0 0 0 0 0 0 0 0 0 0 0 0 3 0 0 0 0]\n",
      " [0 2 0 0 0 0 0 0 0 0 0 0 0 0 0 3 0 0 0 0]\n",
      " [0 2 0 0 0 0 0 0 0 0 0 0 0 0 0 3 0 0 0 0]\n",
      " [0 2 0 0 0 0 0 0 0 0 0 0 0 0 0 3 0 0 0 0]\n",
      " [0 2 0 0 0 0 0 0 0 0 0 0 0 0 0 3 0 0 0 0]\n",
      " [1 2 1 1 1 1 1 1 1 1 1 1 1 1 1 1 1 1 1 1]\n",
      " [0 2 0 0 0 0 0 0 0 0 0 0 0 0 0 3 0 0 0 0]\n",
      " [0 2 0 0 0 0 0 0 0 0 0 0 0 0 0 3 0 0 0 0]\n",
      " [0 2 0 0 0 0 0 0 0 0 0 0 0 0 0 3 0 0 0 0]]\n",
      "0\n",
      "500\n"
     ]
    }
   ],
   "source": [
    "diagrams = 5000 #number of max diagrams to be stored in Memory class\n",
    "memory = Memory(diagrams) #more than diagrams and the oldest diagram stored will be removed\n",
    "for i in range(diagrams):\n",
    "    diagram, y = generate_wiring_diagram(2) #type:ignore\n",
    "    memory.add_sample(diagram, y)\n",
    "list1 = memory.sample(500)\n",
    "\n",
    "\n",
    "print((list1[0])[0]) #printing first diagram\n",
    "print((list1[0])[1]) #printing what wire to cut\n",
    "print(len(list1)) #printing length of dataset to be used"
   ]
  },
  {
   "cell_type": "markdown",
   "metadata": {},
   "source": [
    "Part 2\n",
    "\n"
   ]
  },
  {
   "cell_type": "code",
   "execution_count": null,
   "metadata": {},
   "outputs": [],
   "source": []
  }
 ],
 "metadata": {
  "kernelspec": {
   "display_name": "Python 3",
   "language": "python",
   "name": "python3"
  },
  "language_info": {
   "codemirror_mode": {
    "name": "ipython",
    "version": 3
   },
   "file_extension": ".py",
   "mimetype": "text/x-python",
   "name": "python",
   "nbconvert_exporter": "python",
   "pygments_lexer": "ipython3",
   "version": "3.11.5"
  }
 },
 "nbformat": 4,
 "nbformat_minor": 2
}
