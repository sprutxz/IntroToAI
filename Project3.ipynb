{
 "cells": [
  {
   "cell_type": "markdown",
   "metadata": {},
   "source": [
    "# Project 3"
   ]
  },
  {
   "cell_type": "markdown",
   "metadata": {},
   "source": [
    "Required libraries imported below"
   ]
  },
  {
   "cell_type": "code",
   "execution_count": 1,
   "metadata": {},
   "outputs": [],
   "source": [
    "import matplotlib.pyplot as plt\n",
    "import numpy as np\n",
    "import random"
   ]
  },
  {
   "cell_type": "markdown",
   "metadata": {},
   "source": [
    "Data Generation"
   ]
  },
  {
   "cell_type": "code",
   "execution_count": 2,
   "metadata": {},
   "outputs": [],
   "source": [
    "def is_dangerous(color_choices):\n",
    "    if 3 in color_choices and 1 not in color_choices:\n",
    "        return True\n",
    "    return False\n",
    "\n",
    "def one_hot_encode(color):\n",
    "    arr = np.zeros(4)    \n",
    "    arr[color-1] = 1\n",
    "    return arr\n",
    "    \n",
    "def generate_wiring_diagram(part): #part signfies the part of the project the data is being generated for (1 or 2)\n",
    "    if part != 1 and part != 2:\n",
    "        print(\"invalid parameter values entered while calling generate_wiring_diagram(part) function, part can either be 1 or 2\")\n",
    "        return\n",
    "    \n",
    "    diagram = np.zeros((20,20,4), dtype=int) # Initializing a 20x20 blank diagram\n",
    "    color_choices = [1, 2, 3, 4] # 1: Red, 2: Blue, 3: Yellow, 4: Green\n",
    "    row_choices = list(range(0,20))\n",
    "    col_choices= list(range(0,20))\n",
    "    dangerous = False\n",
    "    wire_to_cut = 0 # 0: No wire to cut, 1: Red, 2: Blue, 3: Yellow, 4: Green\n",
    "\n",
    "    start_with_row = random.choice([True, False])\n",
    "    \n",
    "    if start_with_row: # True: Start with row, False: Start with column\n",
    "        for i in range(4):\n",
    "            if i%2 == 0:\n",
    "                row = random.choice(row_choices) # Choosing a random row\n",
    "                color = random.choice(color_choices) # Choosing a random color\n",
    "                diagram[row, :] = one_hot_encode(color)\n",
    "                row_choices.remove(row)\n",
    "                color_choices.remove(color)\n",
    "                if not dangerous:\n",
    "                    dangerous = is_dangerous(color_choices) # checking if the diagram is dangerous based on the remaining colors\n",
    "            else:\n",
    "                col = random.choice(col_choices) # Choosing a random column\n",
    "                color = random.choice(color_choices) # Choosing a random color\n",
    "                diagram[:, col] = one_hot_encode(color)\n",
    "                col_choices.remove(col)\n",
    "                color_choices.remove(color)\n",
    "                if i == 1 and not dangerous:\n",
    "                    dangerous = is_dangerous(color_choices) # checking if the diagram is dangerous based on the remaining colors\n",
    "                    \n",
    "            if dangerous and i==3: # If the diagram is dangerous, the third wire placed is the one to cut\n",
    "                wire_to_cut = color\n",
    "                \n",
    "    else:\n",
    "        for i in range(4):\n",
    "            if i%2 == 0:\n",
    "                col = random.choice(col_choices) # Choosing a random column\n",
    "                color = random.choice(color_choices) # Choosing a random color\n",
    "                diagram[col, :] = one_hot_encode(color)\n",
    "                col_choices.remove(col)\n",
    "                color_choices.remove(color)\n",
    "                if not dangerous:\n",
    "                    dangerous = is_dangerous(color_choices) # checking if the diagram is dangerous based on the remaining colors\n",
    "            else:\n",
    "                row = random.choice(row_choices) # Choosing a random row\n",
    "                color = random.choice(color_choices) # Choosing a random color\n",
    "                diagram[:, row] = one_hot_encode(color)\n",
    "                row_choices.remove(row)\n",
    "                color_choices.remove(color)\n",
    "                if i == 1 and not dangerous:\n",
    "                    dangerous = is_dangerous(color_choices) # checking if the diagram is dangerous based on the remaining colors\n",
    "                    \n",
    "            if dangerous and i==3:\n",
    "                wire_to_cut = color # If the diagram is dangerous, the third wire placed is the one to cut\n",
    "\n",
    "    if part == 1: \n",
    "        return diagram, dangerous # If part is 1, return the diagram and whether it is dangerous or not\n",
    "    elif part == 2:\n",
    "        return diagram, wire_to_cut # If part is 2, return the diagram and the wire to cut\n",
    "        \n"
   ]
  },
  {
   "cell_type": "markdown",
   "metadata": {},
   "source": [
    "Memory Class to store dataset"
   ]
  },
  {
   "cell_type": "code",
   "execution_count": 3,
   "metadata": {},
   "outputs": [],
   "source": [
    "# Creating a class to create our \"dataset\" for model training\n",
    "class Memory:\n",
    "    # Constructor\n",
    "    def __init__(self, max_memory):\n",
    "        self.max_memory = max_memory # maximum amount of samples to remember\n",
    "        self.samples = [] # the samples\n",
    "\n",
    "    # Adding a sample to memory\n",
    "    def add_sample(self, diagram_vector, y):\n",
    "        if [diagram_vector, y] not in self.samples: # Checking if the sample is already in memory\n",
    "            self.samples.append((diagram_vector, y))\n",
    "        if len(self.samples) > self.max_memory: # Removing the earliest sample if we reach maximum memory\n",
    "            self.samples.pop(0)\n",
    "        return len(self.samples)\n",
    "    \n",
    "\n",
    "    # Sampling the samples we have in memory\n",
    "    def sample(self, no_samples): #no_samples is the number of samples you need\n",
    "        if no_samples > len(self.samples):\n",
    "            return random.sample(self.samples, len(self.samples))\n",
    "        else:\n",
    "            return random.sample(self.samples, no_samples)"
   ]
  },
  {
   "cell_type": "code",
   "execution_count": 4,
   "metadata": {},
   "outputs": [],
   "source": [
    "def findConstants(diagram):\n",
    "    curr = diagram\n",
    "    colors = [[1, 0, 0, 0], [0, 1, 0, 0], [0, 0, 1, 0], [0, 0, 0, 1]]\n",
    "    constants = np.zeros(4) #An array that will contain the constant that represents relatively how much each wire is from its original color \n",
    "    for x in range(len(colors)): #For each color wire, we want to find the distance from edges\n",
    "        found_in_row = False\n",
    "        found_in_col = False\n",
    "        for i in range(len(curr)): #Finds if the color wire is present as a row\n",
    "            element_count = np.count_nonzero(np.all(curr[i] == colors[x], axis=1))#Finds the number of occurences of that color in that row\n",
    "            if(element_count/len(curr[i]) >= 0.5):\n",
    "                found_in_row = True\n",
    "                constants[x] = element_count/len(curr[i]) * 100.0\n",
    "                break\n",
    "        if(not found_in_row):\n",
    "            for i in range(len(curr[0])): # Finds if the color wire is present as a col\n",
    "                element_count = np.count_nonzero(np.all(curr[:, i] == colors[x], axis=1)) # Finds the number of occurences of that color in that column\n",
    "                if(element_count/len(curr) >= 0.5):\n",
    "                    found_in_col = True\n",
    "                    constants[x] = element_count/len(curr) * 100.0\n",
    "                    break\n",
    "    return np.tanh(constants/100)\n"
   ]
  },
  {
   "cell_type": "markdown",
   "metadata": {},
   "source": [
    "Data generation for part 1"
   ]
  },
  {
   "cell_type": "code",
   "execution_count": 68,
   "metadata": {},
   "outputs": [],
   "source": [
    "diagrams = 10000 #number of max diagrams to be stored in Memory class\n",
    "memory = Memory(diagrams) #more than diagrams and the oldest diagram stored will be removed\n",
    "diagram_arr = []\n",
    "training_size = 5000\n",
    "testing_size = 5000\n",
    "for i in range(diagrams):\n",
    "    diagram, y = generate_wiring_diagram(1) #type:ignore\n",
    "    memory.add_sample(diagram, int(y))\n",
    "samples = memory.sample(training_size+testing_size)\n",
    "training_data = samples[:training_size]\n",
    "testing_data = samples[training_size:]\n",
    "x_train = []\n",
    "y_train = []\n",
    "x_test = []\n",
    "y_test = []\n",
    "for diagram in training_data:\n",
    "    additional_features = findConstants(diagram[0])\n",
    "    x_train.append(np.concatenate(([1], diagram[0].flatten(), additional_features))) #A vector with each component being a vector of the each sample diagram's features\n",
    "    y_train.append(diagram[1])\n",
    "for diagram in testing_data:\n",
    "    additional_features = findConstants(diagram[0])\n",
    "    x_test.append(np.concatenate(([1], diagram[0].flatten(), additional_features))) #A vector with each component being a vector of the each sample diagram's features\n",
    "    y_test.append(diagram[1])\n"
   ]
  },
  {
   "cell_type": "markdown",
   "metadata": {},
   "source": [
    "data gen leroy's implementation"
   ]
  },
  {
   "cell_type": "code",
   "execution_count": 67,
   "metadata": {},
   "outputs": [],
   "source": [
    "diagrams = 10000 #number of max diagrams to be stored in Memory class\n",
    "train_size = 5000 #number of samples to be generated\n",
    "test_size = 1000 #number of samples to be used for testing\n",
    "memory = Memory(diagrams) #more than diagrams and the oldest diagram stored will be removed\n",
    "\n",
    "#generating 5000 diagrams and storing them in memory\n",
    "len_samples = 0\n",
    "while len_samples!=diagrams:\n",
    "    diagram, y = generate_wiring_diagram(1) #type:ignore\n",
    "    if y != 0:\n",
    "        len_samples = memory.add_sample(diagram, y)\n",
    "samples = memory.sample(train_size+test_size)\n",
    "\n",
    "train_samples = samples[:train_size]\n",
    "test_samples = samples[train_size:]\n",
    "\n",
    "diagram_arr = []\n",
    "y_arr = []\n",
    "for diagrams, y in train_samples:\n",
    "    diagram_arr.append(diagrams)\n",
    "    y_arr.append(y)\n",
    "    \n",
    "test_diagram_arr = []\n",
    "test_y_arr = []    \n",
    "for test_diagrams, test_y in test_samples:\n",
    "    test_diagram_arr.append(test_diagrams)\n",
    "    test_y_arr.append(test_y)\n",
    "\n",
    "y_arr = np.array(y_arr) #converting the y_arr to a numpy array for easier computation\n",
    "test_y_arr = np.array(test_y_arr) #converting the test_y_arr to a numpy array for easier computation"
   ]
  },
  {
   "cell_type": "code",
   "execution_count": null,
   "metadata": {},
   "outputs": [],
   "source": [
    "def process_data_part1(diagram_arr, y_arr):\n",
    "    flattened_diagrams = np.array([diagram.flatten() for diagram in diagram_arr])\n",
    "    additional_features = np.array([diagram.sum(axis=(0, 1)) for diagram in diagram_arr])\n",
    "    additional_features = np.square(np.subtract(additional_features[:, [0,2]], 17))\n",
    "    X_combined = np.concatenate((flattened_diagrams, additional_features), axis=1)\n",
    "    X = np.c_[X_combined, np.ones(X_combined.shape[0])]\n",
    "    Y = y_arr.astype(int)\n",
    "    \n",
    "    return X, Y"
   ]
  },
  {
   "cell_type": "code",
   "execution_count": null,
   "metadata": {},
   "outputs": [],
   "source": [
    "X_train, Y_train = process_data_part1(diagram_arr, y_arr)\n",
    "X_test, Y_test = process_data_part1(test_diagram_arr, test_y_arr)\n",
    "\n",
    "print(f\"X_train shape: {X_train.shape}\")\n",
    "print(f\"Y_train shape: {Y_train.shape}\")\n",
    "print(f\"First element of X_train: {X_train[0]}\")\n",
    "print(f\"X_test shape: {X_test.shape}\")\n",
    "print(f\"Y_test shape: {Y_test.shape}\")\n",
    "print(f\"First element of X_test: {X_test[0]}\")"
   ]
  },
  {
   "cell_type": "code",
   "execution_count": 6,
   "metadata": {},
   "outputs": [],
   "source": [
    "def sigmoid(x):\n",
    "    return 1 / (1 + np.exp(-x))"
   ]
  },
  {
   "cell_type": "code",
   "execution_count": 30,
   "metadata": {},
   "outputs": [],
   "source": [
    "class LogisticRegression():\n",
    "    \n",
    "    def __init__(self,W,b):\n",
    "        self.W = W\n",
    "        self.b = b\n",
    "        self.test_loss_history = []\n",
    "        self.train_loss_history = []\n",
    "        self.epsilon = 1e-10\n",
    "    \n",
    "    def fit(self, X_train, Y_train, X_test, Y_test, learning_rate=0.001, epochs=10):\n",
    "        m = X_train.shape[0]\n",
    "        for epoch in range (epochs):\n",
    "            z = np.dot(X_train, self.W) + self.b\n",
    "            A = sigmoid(z)\n",
    "            \n",
    "            loss = -np.mean(y * np.log(A + self.epsilon) + (1 - y) * np.log(1 - A + self.epsilon))\n",
    "            self.train_loss_history.append(loss)\n",
    "            \n",
    "            z_test = np.dot(X_test, self.W) + self.b\n",
    "            A_test = sigmoid(z_test)\n",
    "            \n",
    "            loss_test = -np.mean(Y_test * np.log(A_test + self.epsilon) + (1 - Y_test) * np.log(1 - A_test + self.epsilon))\n",
    "            self.test_loss_history.append(loss_test)\n",
    "            \n",
    "            dz = A - Y_train\n",
    "            dW = np.dot(X_train.T, dz) / m\n",
    "            db = np.sum(dz) / m\n",
    "            \n",
    "            self.W -= learning_rate * dW\n",
    "            self.b -= learning_rate * db\n",
    "            \n",
    "            print(\"Epoch: \", epoch, \"Loss: \", loss)\n",
    "        \n",
    "        self.plot_loss(self.train_loss_history, self.test_loss_history)\n",
    "    \n",
    "    def predict(self, X):\n",
    "        z = np.dot(X, self.W) + self.b\n",
    "        A = sigmoid(z)\n",
    "        return np.round(A)\n",
    "    \n",
    "    def plot_loss(self, train_loss, test_loss):\n",
    "        plt.plot(train_loss, label=\"Train Loss\")\n",
    "        plt.plot(test_loss, label=\"Test Loss\")\n",
    "        plt.xlabel('Epoch')\n",
    "        plt.ylabel('Loss')\n",
    "        plt.title('Loss vs Epoch')\n",
    "        plt.legend()\n",
    "        plt.show()"
   ]
  },
  {
   "cell_type": "code",
   "execution_count": 7,
   "metadata": {},
   "outputs": [
    {
     "ename": "NameError",
     "evalue": "name 'X_train' is not defined",
     "output_type": "error",
     "traceback": [
      "\u001b[1;31m---------------------------------------------------------------------------\u001b[0m",
      "\u001b[1;31mNameError\u001b[0m                                 Traceback (most recent call last)",
      "Cell \u001b[1;32mIn[7], line 1\u001b[0m\n\u001b[1;32m----> 1\u001b[0m num_features \u001b[38;5;241m=\u001b[39m \u001b[43mX_train\u001b[49m\u001b[38;5;241m.\u001b[39mshape[\u001b[38;5;241m1\u001b[39m]\n\u001b[0;32m      2\u001b[0m W \u001b[38;5;241m=\u001b[39m np\u001b[38;5;241m.\u001b[39mrandom\u001b[38;5;241m.\u001b[39mrandn(num_features)\n\u001b[0;32m      3\u001b[0m b \u001b[38;5;241m=\u001b[39m \u001b[38;5;241m0\u001b[39m\n",
      "\u001b[1;31mNameError\u001b[0m: name 'X_train' is not defined"
     ]
    }
   ],
   "source": [
    "num_features = X_train.shape[1]\n",
    "W = np.random.randn(num_features)\n",
    "b = 0\n",
    "model = LogisticRegression(W, b)"
   ]
  },
  {
   "cell_type": "code",
   "execution_count": null,
   "metadata": {},
   "outputs": [],
   "source": [
    "#training the model\n",
    "model.fit(X_train, Y_train, X_test, Y_test, learning_rate=0.1, epochs = 1000)"
   ]
  },
  {
   "cell_type": "code",
   "execution_count": null,
   "metadata": {},
   "outputs": [],
   "source": [
    "predictions = model.predict(X_test)\n",
    "\n",
    "correct_predictions = np.sum(predictions == test_y_arr)\n",
    "print(correct_predictions)\n",
    "accuracy = (correct_predictions / Y_test.shape[0])*100\n",
    "print(f\"Accuracy on test set: {accuracy}\")\n"
   ]
  },
  {
   "cell_type": "markdown",
   "metadata": {},
   "source": [
    "Model for Part 1"
   ]
  },
  {
   "cell_type": "code",
   "execution_count": 71,
   "metadata": {},
   "outputs": [
    {
     "name": "stdout",
     "output_type": "stream",
     "text": [
      "Epoch:  0 Loss:  0.36352779434164195\n",
      "Epoch:  1 Loss:  0.292234687939383\n",
      "Epoch:  2 Loss:  0.2833641685844749\n",
      "Epoch:  3 Loss:  0.27538413974585063\n",
      "Epoch:  4 Loss:  0.26780032761859224\n",
      "Epoch:  5 Loss:  0.2606050095177191\n",
      "Epoch:  6 Loss:  0.2537873499247284\n",
      "Epoch:  7 Loss:  0.2473348957412818\n",
      "Epoch:  8 Loss:  0.2412342358505769\n",
      "Epoch:  9 Loss:  0.23547120262634352\n",
      "Epoch:  10 Loss:  0.23003107717655857\n",
      "Epoch:  11 Loss:  0.22489880228816306\n",
      "Epoch:  12 Loss:  0.22005918386414947\n",
      "Epoch:  13 Loss:  0.21549706838294824\n",
      "Epoch:  14 Loss:  0.21119749078779798\n",
      "Epoch:  15 Loss:  0.20714579254820187\n",
      "Epoch:  16 Loss:  0.20332771305632885\n",
      "Epoch:  17 Loss:  0.1997294590511579\n",
      "Epoch:  18 Loss:  0.1963377567875637\n",
      "Epoch:  19 Loss:  0.19313989077691956\n",
      "Epoch:  20 Loss:  0.1901237317184171\n",
      "Epoch:  21 Loss:  0.18727775516714534\n",
      "Epoch:  22 Loss:  0.18459105178012591\n",
      "Epoch:  23 Loss:  0.18205332968013005\n",
      "Epoch:  24 Loss:  0.17965490948505958\n",
      "Epoch:  25 Loss:  0.17738671272480339\n",
      "Epoch:  26 Loss:  0.17524024457641907\n",
      "Epoch:  27 Loss:  0.1732075720037137\n",
      "Epoch:  28 Loss:  0.171281298448706\n",
      "Epoch:  29 Loss:  0.16945453618804762\n",
      "Epoch:  30 Loss:  0.16772087735821606\n",
      "Epoch:  31 Loss:  0.16607436449862925\n",
      "Epoch:  32 Loss:  0.1645094612900169\n",
      "Epoch:  33 Loss:  0.16302102399816779\n",
      "Epoch:  34 Loss:  0.1616042739842669\n",
      "Epoch:  35 Loss:  0.16025477151911688\n",
      "Epoch:  36 Loss:  0.15896839104077626\n",
      "Epoch:  37 Loss:  0.15774129792151803\n",
      "Epoch:  38 Loss:  0.15656992675679893\n",
      "Epoch:  39 Loss:  0.1554509611519429\n",
      "Epoch:  40 Loss:  0.15438131495758678\n",
      "Epoch:  41 Loss:  0.15335811488933232\n",
      "Epoch:  42 Loss:  0.15237868445787203\n",
      "Epoch:  43 Loss:  0.15144052913119882\n",
      "Epoch:  44 Loss:  0.1505413226489441\n",
      "Epoch:  45 Loss:  0.1496788944094441\n",
      "Epoch:  46 Loss:  0.1488512178521142\n",
      "Epoch:  47 Loss:  0.1480563997606687\n",
      "Epoch:  48 Loss:  0.14729267041626082\n",
      "Epoch:  49 Loss:  0.14655837453358161\n",
      "Epoch:  50 Loss:  0.14585196291709523\n",
      "Epoch:  51 Loss:  0.1451719847788026\n",
      "Epoch:  52 Loss:  0.14451708066314917\n",
      "Epoch:  53 Loss:  0.1438859759287559\n",
      "Epoch:  54 Loss:  0.14327747474063474\n",
      "Epoch:  55 Loss:  0.1426904545302838\n",
      "Epoch:  56 Loss:  0.14212386088460394\n",
      "Epoch:  57 Loss:  0.14157670282789148\n",
      "Epoch:  58 Loss:  0.1410480484642194\n",
      "Epoch:  59 Loss:  0.14053702095037768\n",
      "Epoch:  60 Loss:  0.14004279477212805\n",
      "Epoch:  61 Loss:  0.13956459229892484\n",
      "Epoch:  62 Loss:  0.13910168059443784\n",
      "Epoch:  63 Loss:  0.138653368462185\n",
      "Epoch:  64 Loss:  0.13821900370740198\n",
      "Epoch:  65 Loss:  0.1377979705978986\n",
      "Epoch:  66 Loss:  0.13738968750816383\n",
      "Epoch:  67 Loss:  0.13699360473231087\n",
      "Epoch:  68 Loss:  0.13660920245269126\n",
      "Epoch:  69 Loss:  0.1362359888521209\n",
      "Epoch:  70 Loss:  0.1358734983586754\n",
      "Epoch:  71 Loss:  0.13552129001291124\n",
      "Epoch:  72 Loss:  0.1351789459482426\n",
      "Epoch:  73 Loss:  0.1348460699759305\n",
      "Epoch:  74 Loss:  0.1345222862668487\n",
      "Epoch:  75 Loss:  0.13420723812283264\n",
      "Epoch:  76 Loss:  0.1339005868309714\n",
      "Epoch:  77 Loss:  0.13360201059475763\n",
      "Epoch:  78 Loss:  0.13331120353646764\n",
      "Epoch:  79 Loss:  0.13302787476560454\n",
      "Epoch:  80 Loss:  0.13275174750862592\n",
      "Epoch:  81 Loss:  0.1324825582955599\n",
      "Epoch:  82 Loss:  0.13222005619944244\n",
      "Epoch:  83 Loss:  0.1319640021248326\n",
      "Epoch:  84 Loss:  0.1317141681419312\n",
      "Epoch:  85 Loss:  0.1314703368631086\n",
      "Epoch:  86 Loss:  0.13123230085887677\n",
      "Epoch:  87 Loss:  0.1309998621105713\n",
      "Epoch:  88 Loss:  0.13077283149720223\n",
      "Epoch:  89 Loss:  0.13055102831413648\n",
      "Epoch:  90 Loss:  0.13033427982143503\n",
      "Epoch:  91 Loss:  0.13012242081982883\n",
      "Epoch:  92 Loss:  0.1299152932524736\n",
      "Epoch:  93 Loss:  0.12971274583075254\n",
      "Epoch:  94 Loss:  0.12951463368251973\n",
      "Epoch:  95 Loss:  0.12932081802129808\n",
      "Epoch:  96 Loss:  0.12913116583504852\n",
      "Epoch:  97 Loss:  0.12894554959322904\n",
      "Epoch:  98 Loss:  0.12876384697094778\n",
      "Epoch:  99 Loss:  0.12858594058910802\n"
     ]
    },
    {
     "data": {
      "image/png": "[encoded data removed]",
      "text/plain": [
       "<Figure size 640x480 with 1 Axes>"
      ]
     },
     "metadata": {},
     "output_type": "display_data"
    },
    {
     "name": "stdout",
     "output_type": "stream",
     "text": [
      "[-0.41490757 -1.41332112 -0.05028    ...  0.48019076  9.61397106\n",
      " -0.27319953]\n"
     ]
    }
   ],
   "source": [
    "class LogisticRegressionModel():\n",
    "    def __init__(self, weights, alpha, epochs, lambdaVar):\n",
    "        self.weights = weights\n",
    "        self.alpha = alpha\n",
    "        self.epochs = epochs\n",
    "        self.train_loss_history = []\n",
    "        self.test_loss_history = []\n",
    "        self.lambdaVar = lambdaVar\n",
    "\n",
    "    def sigmoid(self, x):\n",
    "        return 1 / (1 + np.exp(-x))\n",
    "\n",
    "    def log(self, x):\n",
    "        return np.log10(x)\n",
    "\n",
    "    def costFunction (self, features, y): #Loss Function\n",
    "        loss = -1 * y * self.log(self.sigmoid(np.dot(self.weights, features)) - (1-y) * self.log(self.sigmoid(1-np.dot(self.weights, features))))\n",
    "        return loss\n",
    "\n",
    "    def gradientDescent(self, features, weights, alpha, y):\n",
    "        regularization = np.dot(self.lambdaVar / len(weights), np.concatenate(([0], weights[1:])))    \n",
    "        gradient = np.zeros(len(weights))\n",
    "        func = self.sigmoid(np.dot(features, self.weights))\n",
    "        gradient = np.dot((func - y), features) + regularization\n",
    "        self.weights = self.weights - alpha * gradient\n",
    "        #print(\"Gradient: \", gradient)\n",
    "        #print(\"Regularization: \", regularization)\n",
    "        #print(self.weights)\n",
    "\n",
    "    def fit(self, weights, alpha, x_train, y_train, x_test, y_test, epochs):\n",
    "        self.x_train = x_train\n",
    "        self.y_train = y_train\n",
    "        self.x_test = x_test\n",
    "        self.y_test = y_test\n",
    "        for epoch in range(epochs): #Epochs\n",
    "            regularization = self.lambdaVar / (2 * len(weights)) * np.sum(weights[1:]**2) #L2 Regularization\n",
    "            for j in range(len(x_train)): #Loop through each sample in the dataset\n",
    "                self.gradientDescent(self.x_train[j], self.weights, self.alpha, self.y_train[j]) \n",
    "            loss_train = 0\n",
    "            for x in range(len(x_train)): #Calculate the loss for the training data\n",
    "                loss_train+=self.costFunction(self.x_train[x], self.y_train[x])\n",
    "            loss_train /= len(self.x_train)\n",
    "            loss_train+=regularization\n",
    "            self.train_loss_history.append(loss_train)\n",
    "            loss_test = 0 \n",
    "            for x in range(len(x_test)): #Calculate the loss for the testing data\n",
    "                loss_test+=self.costFunction(self.x_test[x], self.y_test[x])\n",
    "            loss_test /= len(self.x_test)\n",
    "            loss_test+=regularization\n",
    "            self.test_loss_history.append(loss_test)\n",
    "            \n",
    "            print(\"Epoch: \", epoch, \"Loss: \", loss_train)\n",
    "        self.plot_loss(self.train_loss_history, self.test_loss_history)\n",
    "        print(self.weights)\n",
    "\n",
    "    \n",
    "    def predict(self, X): #Check if this method works correctly!!!!!!!!!!!!!!!!!!!!!!!!!!\n",
    "        A = np.empty(len(X))\n",
    "        for i in range(len(X)):\n",
    "            z = np.dot(X[i], self.weights)\n",
    "            A[i] = sigmoid(z)\n",
    "        return np.round(A)\n",
    "\n",
    "\n",
    "    def plot_loss(self, train_loss, test_loss): #Plot the Epochs vs both Training and Testing Loss Curves\n",
    "        plt.plot(train_loss, label=\"Train Loss\")\n",
    "        plt.plot(test_loss, label=\"Test Loss\")\n",
    "        plt.xlabel('Epoch')\n",
    "        plt.ylabel('Loss')\n",
    "        plt.title('Loss vs Epoch')\n",
    "        plt.legend()\n",
    "        plt.show()   \n",
    "        \n",
    "    #saving and loading the model\n",
    "    def save_model(self, name):\n",
    "        np.savez(name, weights = self.weights)\n",
    "         \n",
    "\n",
    "weights = np.random.randn(len(x_train[0])) #Randomize weights\n",
    "alpha = 0.01 # Represents step-size\n",
    "epochs = 100 #Number of times you loop through the training set \n",
    "lambdaVariable = 0.15\n",
    "model = LogisticRegressionModel(weights, alpha, epochs, lambdaVariable)\n",
    "model.fit(weights, alpha, x_train, y_train, x_test, y_test, epochs)"
   ]
  },
  {
   "cell_type": "code",
   "execution_count": 70,
   "metadata": {},
   "outputs": [
    {
     "name": "stdout",
     "output_type": "stream",
     "text": [
      "4326\n",
      "Accuracy on test set: 86.52\n"
     ]
    }
   ],
   "source": [
    "predictions = model.predict(x_test) \n",
    "\n",
    "correct_predictions = np.sum(predictions == y_test)\n",
    "print(correct_predictions)\n",
    "accuracy = (correct_predictions / np.array(y_test).shape[0])*100\n",
    "print(f\"Accuracy on test set: {accuracy}\")\n"
   ]
  },
  {
   "cell_type": "code",
   "execution_count": null,
   "metadata": {},
   "outputs": [],
   "source": [
    "model.save_model(\"model_non_linear.npz\")"
   ]
  },
  {
   "cell_type": "markdown",
   "metadata": {},
   "source": [
    "Data generation for part 2"
   ]
  },
  {
   "cell_type": "code",
   "execution_count": 49,
   "metadata": {},
   "outputs": [],
   "source": [
    "diagrams = 6000 #number of max diagrams to be stored in Memory class\n",
    "train_size = 500 #number of samples to be generated\n",
    "test_size = 1000 #number of samples to be used for testing\n",
    "memory = Memory(diagrams) #more than diagrams and the oldest diagram stored will be removed\n",
    "\n",
    "#generating 5000 diagrams and storing them in memory\n",
    "len_samples = 0\n",
    "while len_samples!=diagrams:\n",
    "    diagram, y = generate_wiring_diagram(2) #type:ignore\n",
    "    if y != 0:\n",
    "        len_samples = memory.add_sample(diagram, y)\n",
    "samples = memory.sample(train_size+test_size)\n",
    "\n",
    "train_samples = samples[:train_size]\n",
    "test_samples = samples[train_size:]\n",
    "\n",
    "diagram_arr = []\n",
    "y_arr = []\n",
    "for diagrams, y in train_samples:\n",
    "    diagram_arr.append(diagrams)\n",
    "    y_arr.append(y)\n",
    "    \n",
    "test_diagram_arr = []\n",
    "test_y_arr = []    \n",
    "for test_diagrams, test_y in test_samples:\n",
    "    test_diagram_arr.append(test_diagrams)\n",
    "    test_y_arr.append(test_y)\n",
    "\n",
    "y_arr = np.array(y_arr) #converting the y_arr to a numpy array for easier computation\n",
    "test_y_arr = np.array(test_y_arr) #converting the test_y_arr to a numpy array for easier computation"
   ]
  },
  {
   "cell_type": "markdown",
   "metadata": {},
   "source": [
    "Data Processing"
   ]
  },
  {
   "cell_type": "code",
   "execution_count": 50,
   "metadata": {},
   "outputs": [],
   "source": [
    "def process_data_part2(diagram_arr, y_arr):\n",
    "    flattened_diagrams = np.array([diagram.flatten() for diagram in diagram_arr])\n",
    "    additional_features = np.array([diagram.sum(axis=(0, 1)) for diagram in diagram_arr])\n",
    "    additional_features = (np.exp(np.subtract(additional_features, 18)))\n",
    "    X_combined = np.concatenate((flattened_diagrams, additional_features), axis=1)\n",
    "    X = np.c_[X_combined, np.ones(X_combined.shape[0])]\n",
    "    Y = np.eye(4)[np.subtract(y_arr,1)]\n",
    "    \n",
    "    return X, Y"
   ]
  },
  {
   "cell_type": "code",
   "execution_count": 51,
   "metadata": {},
   "outputs": [
    {
     "name": "stdout",
     "output_type": "stream",
     "text": [
      "[0.         0.         0.         ... 2.71828183 2.71828183 1.        ]\n",
      "X_train shape: (500, 1605)\n",
      "Y_train shape: (500, 4)\n",
      "First element of X_train: [0.         0.         0.         ... 2.71828183 2.71828183 1.        ]\n",
      "X_test shape: (1000, 1605)\n",
      "Y_test shape: (1000, 4)\n",
      "First element of X_test: [0.         0.         0.         ... 2.71828183 7.3890561  1.        ]\n"
     ]
    }
   ],
   "source": [
    "X_train, Y_train = process_data_part2(diagram_arr, y_arr)\n",
    "X_test, Y_test = process_data_part2(test_diagram_arr, test_y_arr)\n",
    "X_train_bad, Y_train_bad = process_data_bad(diagram_arr, y_arr)\n",
    "X_test_bad, Y_test_bad = process_data_bad(test_diagram_arr, test_y_arr)\n",
    "\n",
    "print(X_train[0])\n",
    "print(f\"X_train shape: {X_train.shape}\")\n",
    "print(f\"Y_train shape: {Y_train.shape}\")\n",
    "print(f\"First element of X_train: {X_train[0]}\")\n",
    "print(f\"X_test shape: {X_test.shape}\")\n",
    "print(f\"Y_test shape: {Y_test.shape}\")\n",
    "print(f\"First element of X_test: {X_test[0]}\")"
   ]
  },
  {
   "cell_type": "markdown",
   "metadata": {},
   "source": [
    "Part 2 implementation"
   ]
  },
  {
   "cell_type": "code",
   "execution_count": null,
   "metadata": {},
   "outputs": [],
   "source": [
    "#defining the softmax function\n",
    "def softmax(x): \n",
    "    e_x = np.exp(x - np.max(x, axis=1, keepdims=True))\n",
    "    return e_x / e_x.sum(axis=1, keepdims=True)"
   ]
  },
  {
   "cell_type": "code",
   "execution_count": null,
   "metadata": {},
   "outputs": [],
   "source": [
    "class Model():\n",
    "    def __init__(self, W, b):\n",
    "        self.W = W\n",
    "        self.b = b\n",
    "        self.epsilon = 1e-10\n",
    "        self.regularization = 0.01\n",
    "        self.train_loss_history = []\n",
    "        self.test_loss_history = []\n",
    "        \n",
    "    def fit(self, X_train, Y_train, X_test, Y_test, learning_rate = 0.001, epochs = 10):\n",
    "        m = X_train.shape[0]\n",
    "        for epoch in range(epochs):\n",
    "            \n",
    "            #forward propagation for training\n",
    "            Z_train = np.dot(X_train, self.W) + self.b\n",
    "            A_train = softmax(Z_train)\n",
    "            \n",
    "            loss_train = -np.mean(np.sum(Y_train * np.log(A_train + self.epsilon), axis=1)) #calculating the loss\n",
    "            loss_train += 0.5 * self.regularization * np.sum(self.W ** 2) #calculating the regularization loss\n",
    "            \n",
    "            self.train_loss_history.append(loss_train)\n",
    "            \n",
    "            # Forward pass for test data\n",
    "            Z_test = np.dot(X_test, self.W) + self.b\n",
    "            A_test = softmax(Z_test)\n",
    "            \n",
    "            loss_test = -np.mean(np.sum(Y_test * np.log(A_test + self.epsilon), axis=1))\n",
    "            loss_test += 0.5 * self.regularization * np.sum(self.W ** 2)\n",
    "            self.test_loss_history.append(loss_test)\n",
    "            \n",
    "            #calculating the gradients\n",
    "            dW = (1/m) * np.dot(X_train.T, (A_train-Y_train)) + (self.regularization * self.W)\n",
    "            db = (1/m) * np.sum(A_train-Y_train, axis=0) + (self.regularization * self.b)\n",
    "            \n",
    "            #updating the weights and biases\n",
    "            self.W -= learning_rate * dW \n",
    "            self.b -= learning_rate * db\n",
    "            \n",
    "            print(\"Epoch: \", epoch, \"Loss: \", loss_train)\n",
    "        \n",
    "        self.plot_loss(self.train_loss_history, self.test_loss_history)\n",
    "\n",
    "    def predict(self, X): #prediction function\n",
    "        Z = np.dot(X, self.W) + self.b\n",
    "        probs = softmax(Z)\n",
    "        return np.argmax(probs, axis=1) + 1\n",
    "    \n",
    "    #plotting the loss\n",
    "    def plot_loss(self, train_loss_history, test_loss_history):\n",
    "        plt.plot(train_loss_history, label = \"train loss\")\n",
    "        plt.plot(test_loss_history, label = \"test loss\")\n",
    "        plt.xlabel('Epoch')\n",
    "        plt.ylabel('Loss')\n",
    "        plt.title('Loss vs Epoch')\n",
    "        plt.legend()\n",
    "        plt.show()\n",
    "    \n",
    "    #saving and loading the model\n",
    "    def save_model(self, name):\n",
    "        np.savez(name, W=self.W, b=self.b)\n",
    "        \n",
    "    def load_model(self, name):\n",
    "        loaded_data = np.load(name)\n",
    "        self.W = loaded_data['W']\n",
    "        self.b = loaded_data['b']"
   ]
  },
  {
   "cell_type": "code",
   "execution_count": null,
   "metadata": {},
   "outputs": [],
   "source": [
    "num_classes = 4\n",
    "num_features = X_train.shape[1]\n",
    "W = np.random.rand(num_features, num_classes)\n",
    "b = np.zeros(num_classes)\n",
    "model = Model(W, b)"
   ]
  },
  {
   "cell_type": "code",
   "execution_count": null,
   "metadata": {},
   "outputs": [],
   "source": [
    "model.load_model('model_non_linear.npz')  # Load weights from a saved file"
   ]
  },
  {
   "cell_type": "code",
   "execution_count": null,
   "metadata": {},
   "outputs": [],
   "source": [
    "#training the model\n",
    "model.fit(X_train, Y_train, X_test, Y_test, learning_rate=0.1, epochs = 1000)"
   ]
  },
  {
   "cell_type": "code",
   "execution_count": null,
   "metadata": {},
   "outputs": [],
   "source": [
    "predictions = model.predict(X_test)\n",
    "\n",
    "correct_predictions = np.sum(predictions == test_y_arr)\n",
    "print(correct_predictions)\n",
    "accuracy = (correct_predictions / Y_test.shape[0])*100\n",
    "print(f\"Accuracy on test set: {accuracy}\")\n"
   ]
  },
  {
   "cell_type": "code",
   "execution_count": null,
   "metadata": {},
   "outputs": [],
   "source": [
    "predictions = model.predict(X_train)\n",
    "\n",
    "correct_predictions = np.sum(predictions == y_arr)\n",
    "print(correct_predictions)\n",
    "accuracy = (correct_predictions / Y_train.shape[0])*100\n",
    "print(f\"Accuracy on training set: {accuracy}\")\n"
   ]
  },
  {
   "cell_type": "code",
   "execution_count": null,
   "metadata": {},
   "outputs": [],
   "source": [
    "model.save_model(\"model_non_linear.npz\")"
   ]
  }
 ],
 "metadata": {
  "kernelspec": {
   "display_name": "Python 3",
   "language": "python",
   "name": "python3"
  },
  "language_info": {
   "codemirror_mode": {
    "name": "ipython",
    "version": 3
   },
   "file_extension": ".py",
   "mimetype": "text/x-python",
   "name": "python",
   "nbconvert_exporter": "python",
   "pygments_lexer": "ipython3",
   "version": "3.11.7"
  }
 },
 "nbformat": 4,
 "nbformat_minor": 2
}
