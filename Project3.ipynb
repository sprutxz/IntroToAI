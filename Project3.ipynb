{
 "cells": [
  {
   "cell_type": "markdown",
   "metadata": {},
   "source": [
    "# Project 3"
   ]
  },
  {
   "cell_type": "markdown",
   "metadata": {},
   "source": [
    "Required libraries imported below"
   ]
  },
  {
   "cell_type": "code",
   "execution_count": 1,
   "metadata": {},
   "outputs": [],
   "source": [
    "import matplotlib as plt\n",
    "import numpy as np\n",
    "import random"
   ]
  },
  {
   "cell_type": "markdown",
   "metadata": {},
   "source": [
    "Data Generation"
   ]
  },
  {
   "cell_type": "code",
   "execution_count": 2,
   "metadata": {},
   "outputs": [],
   "source": [
    "def is_dangerous(color_choices):\n",
    "    if 3 in color_choices and 1 not in color_choices:\n",
    "        return True\n",
    "    return False\n",
    "\n",
    "def one_hot_encode(color):\n",
    "    arr = np.zeros(4)    \n",
    "    arr[color-1] = 1\n",
    "    return arr\n",
    "    \n",
    "def generate_wiring_diagram(part): #part signfies the part of the project the data is being generated for (1 or 2)\n",
    "    if part != 1 and part != 2:\n",
    "        print(\"invalid parameter values entered while calling generate_wiring_diagram(part) function, part can either be 1 or 2\")\n",
    "        return\n",
    "    \n",
    "    diagram = np.zeros((20,20,4), dtype=int) # Initializing a 20x20 blank diagram\n",
    "    color_choices = [1, 2, 3, 4] # 1: Red, 2: Blue, 3: Yellow, 4: Green\n",
    "    row_choices = list(range(0,20))\n",
    "    col_choices= list(range(0,20))\n",
    "    dangerous = False\n",
    "    wire_to_cut = 0 # 0: No wire to cut, 1: Red, 2: Blue, 3: Yellow, 4: Green\n",
    "\n",
    "    start_with_row = random.choice([True, False])\n",
    "    \n",
    "    if start_with_row: # True: Start with row, False: Start with column\n",
    "        for i in range(4):\n",
    "            if i%2 == 0:\n",
    "                row = random.choice(row_choices) # Choosing a random row\n",
    "                color = random.choice(color_choices) # Choosing a random color\n",
    "                diagram[row, :] = one_hot_encode(color)\n",
    "                row_choices.remove(row)\n",
    "                color_choices.remove(color)\n",
    "                if not dangerous:\n",
    "                    dangerous = is_dangerous(color_choices) # checking if the diagram is dangerous based on the remaining colors\n",
    "            else:\n",
    "                col = random.choice(col_choices) # Choosing a random column\n",
    "                color = random.choice(color_choices) # Choosing a random color\n",
    "                diagram[:, col] = one_hot_encode(color)\n",
    "                col_choices.remove(col)\n",
    "                color_choices.remove(color)\n",
    "                if i == 1 and not dangerous:\n",
    "                    dangerous = is_dangerous(color_choices) # checking if the diagram is dangerous based on the remaining colors\n",
    "                    \n",
    "            if dangerous and i==3: # If the diagram is dangerous, the third wire placed is the one to cut\n",
    "                wire_to_cut = color\n",
    "                \n",
    "    else:\n",
    "        for i in range(4):\n",
    "            if i%2 == 0:\n",
    "                col = random.choice(col_choices) # Choosing a random column\n",
    "                color = random.choice(color_choices) # Choosing a random color\n",
    "                diagram[col, :] = one_hot_encode(color)\n",
    "                col_choices.remove(col)\n",
    "                color_choices.remove(color)\n",
    "                if not dangerous:\n",
    "                    dangerous = is_dangerous(color_choices) # checking if the diagram is dangerous based on the remaining colors\n",
    "            else:\n",
    "                row = random.choice(row_choices) # Choosing a random row\n",
    "                color = random.choice(color_choices) # Choosing a random color\n",
    "                diagram[:, row] = one_hot_encode(color)\n",
    "                row_choices.remove(row)\n",
    "                color_choices.remove(color)\n",
    "                if i == 1 and not dangerous:\n",
    "                    dangerous = is_dangerous(color_choices) # checking if the diagram is dangerous based on the remaining colors\n",
    "                    \n",
    "            if dangerous and i==3:\n",
    "                wire_to_cut = color # If the diagram is dangerous, the third wire placed is the one to cut\n",
    "\n",
    "    if part == 1: \n",
    "        return diagram, dangerous # If part is 1, return the diagram and whether it is dangerous or not\n",
    "    elif part == 2:\n",
    "        return diagram, wire_to_cut # If part is 2, return the diagram and the wire to cut\n",
    "        \n"
   ]
  },
  {
   "cell_type": "markdown",
   "metadata": {},
   "source": [
    "Memory Class to store dataset"
   ]
  },
  {
   "cell_type": "code",
   "execution_count": 6,
   "metadata": {},
   "outputs": [],
   "source": [
    "# Creating a class to create our \"dataset\" for model training\n",
    "class Memory:\n",
    "    # Constructor\n",
    "    def __init__(self, max_memory):\n",
    "        self.max_memory = max_memory # maximum amount of samples to remember\n",
    "        self.samples = [] # the samples\n",
    "\n",
    "    # Adding a sample to memory\n",
    "    def add_sample(self, diagram_vector, y):\n",
    "        self.samples.append([diagram_vector, y])\n",
    "        if len(self.samples) > self.max_memory: # Removing the earliest sample if we reach maximum memory\n",
    "            self.samples.pop(0)\n",
    "\n",
    "    # Sampling the samples we have in memory\n",
    "    def sample(self, no_samples): #no_samples is the number of samples you need\n",
    "        if no_samples > len(self.samples):\n",
    "            return random.sample(self.samples, len(self.samples))\n",
    "        else:\n",
    "            return random.sample(self.samples, no_samples)"
   ]
  },
  {
   "cell_type": "markdown",
   "metadata": {},
   "source": [
    "Data generation for part 1"
   ]
  },
  {
   "cell_type": "code",
   "execution_count": null,
   "metadata": {},
   "outputs": [],
   "source": [
    "diagrams = 5000 #number of max diagrams to be stored in Memory class\n",
    "memory = Memory(diagrams) #more than diagrams and the oldest diagram stored will be removed\n",
    "for i in range(diagrams):\n",
    "    diagram, y = generate_wiring_diagram(1) #type:ignore\n",
    "    memory.add_sample(diagram, y)\n",
    "list1 = memory.sample(500)"
   ]
  },
  {
   "cell_type": "markdown",
   "metadata": {},
   "source": [
    "Data generation for part 2"
   ]
  },
  {
   "cell_type": "code",
   "execution_count": 104,
   "metadata": {},
   "outputs": [
    {
     "name": "stdout",
     "output_type": "stream",
     "text": [
      "[[array([[[0, 0, 1, 0],\n",
      "        [0, 0, 0, 0],\n",
      "        [0, 0, 0, 0],\n",
      "        ...,\n",
      "        [0, 0, 0, 0],\n",
      "        [0, 0, 0, 0],\n",
      "        [0, 0, 0, 0]],\n",
      "\n",
      "       [[0, 0, 1, 0],\n",
      "        [0, 0, 0, 0],\n",
      "        [0, 0, 0, 0],\n",
      "        ...,\n",
      "        [0, 0, 0, 0],\n",
      "        [0, 0, 0, 0],\n",
      "        [0, 0, 0, 0]],\n",
      "\n",
      "       [[0, 0, 1, 0],\n",
      "        [0, 0, 0, 0],\n",
      "        [0, 0, 0, 0],\n",
      "        ...,\n",
      "        [0, 0, 0, 0],\n",
      "        [0, 0, 0, 0],\n",
      "        [0, 0, 0, 0]],\n",
      "\n",
      "       ...,\n",
      "\n",
      "       [[0, 0, 1, 0],\n",
      "        [0, 0, 0, 0],\n",
      "        [0, 0, 0, 0],\n",
      "        ...,\n",
      "        [0, 0, 0, 0],\n",
      "        [0, 0, 0, 0],\n",
      "        [0, 0, 0, 0]],\n",
      "\n",
      "       [[0, 0, 1, 0],\n",
      "        [0, 0, 0, 0],\n",
      "        [0, 0, 0, 0],\n",
      "        ...,\n",
      "        [0, 0, 0, 0],\n",
      "        [0, 0, 0, 0],\n",
      "        [0, 0, 0, 0]],\n",
      "\n",
      "       [[0, 0, 1, 0],\n",
      "        [0, 0, 0, 0],\n",
      "        [0, 0, 0, 0],\n",
      "        ...,\n",
      "        [0, 0, 0, 0],\n",
      "        [0, 0, 0, 0],\n",
      "        [0, 0, 0, 0]]])], 3]\n"
     ]
    }
   ],
   "source": [
    "diagrams = 5000 #number of max diagrams to be stored in Memory class\n",
    "train_size = 500 #number of samples to be generated\n",
    "test_size = 1000 #number of samples to be used for testing\n",
    "memory = Memory(diagrams) #more than diagrams and the oldest diagram stored will be removed\n",
    "\n",
    "#generating 5000 diagrams and storing them in memory\n",
    "i = 0\n",
    "while i != diagrams:\n",
    "    diagram, y = generate_wiring_diagram(2) #type:ignore\n",
    "    if y != 0:\n",
    "        memory.add_sample(diagram, y)\n",
    "        i += 1\n",
    "samples = memory.sample(train_size+test_size)\n",
    "\n",
    "train_samples = samples[:train_size]\n",
    "test_samples = samples[train_size:]\n",
    "\n",
    "diagram_arr = []\n",
    "y_arr = []\n",
    "for diagrams, y in train_samples:\n",
    "    diagram_arr.append(diagrams[0])\n",
    "    y_arr.append(y)\n",
    "\n",
    "y_arr = np.array(y_arr) #converting the y_arr to a numpy array for easier computation"
   ]
  },
  {
   "cell_type": "code",
   "execution_count": 118,
   "metadata": {},
   "outputs": [
    {
     "name": "stdout",
     "output_type": "stream",
     "text": [
      "(500, 4)\n",
      "(500, 1600)\n",
      "X_train shape: (500, 1605)\n",
      "Y_train shape: (500, 4)\n"
     ]
    }
   ],
   "source": [
    "flattened_diagrams = [diagram.flatten() for diagram in diagram_arr]\n",
    "additional_features = [diagram.sum(axis=(0, 1)) for diagram in diagram_arr]\n",
    "X_flattened = np.array(flattened_diagrams)\n",
    "X_additional = np.array(additional_features)\n",
    "X_combined = np.concatenate((X_flattened, X_additional), axis=1)\n",
    "\n",
    "X_train = np.c_[X_combined, np.ones(X_combined.shape[0])]\n",
    "Y_train = np.eye(4)[np.subtract(y_arr,1)]\n",
    "\n",
    "print(f\"X_train shape: {X_train.shape}\")\n",
    "print(f\"Y_train shape: {Y_train.shape}\")"
   ]
  },
  {
   "cell_type": "markdown",
   "metadata": {},
   "source": [
    "Part 2 implementation"
   ]
  },
  {
   "cell_type": "code",
   "execution_count": 96,
   "metadata": {},
   "outputs": [],
   "source": [
    "#defining the softmax function\n",
    "def softmax(x): \n",
    "    e_x = np.exp(x - np.max(x, axis=1, keepdims=True))\n",
    "    return e_x / e_x.sum(axis=1, keepdims=True)"
   ]
  },
  {
   "cell_type": "code",
   "execution_count": 97,
   "metadata": {},
   "outputs": [],
   "source": [
    "num_classes = 4\n",
    "num_features = X_train.shape[1]\n",
    "W = np.random.rand(num_features, num_classes)\n",
    "b = np.zeros(num_classes)\n",
    "learning_rate = 0.01\n",
    "epochs = 1000\n",
    "epsilon = 1e-10"
   ]
  },
  {
   "cell_type": "code",
   "execution_count": 101,
   "metadata": {},
   "outputs": [
    {
     "name": "stdout",
     "output_type": "stream",
     "text": [
      "Epoch 0, Loss: 2.4534884339338264e-08\n",
      "Epoch 100, Loss: 2.3681853746458805e-08\n",
      "Epoch 200, Loss: 2.2886499945614378e-08\n",
      "Epoch 300, Loss: 2.214315338986537e-08\n",
      "Epoch 400, Loss: 2.1446864567502697e-08\n",
      "Epoch 500, Loss: 2.079329317823088e-08\n",
      "Epoch 600, Loss: 2.0178617160431877e-08\n",
      "Epoch 700, Loss: 1.9599457558993258e-08\n",
      "Epoch 800, Loss: 1.9052816094973883e-08\n",
      "Epoch 900, Loss: 1.8536023003624466e-08\n"
     ]
    }
   ],
   "source": [
    "# Training loop\n",
    "for epoch in range(epochs):\n",
    "    # Forward pass\n",
    "    scores = np.dot(X_train, W) + b\n",
    "    probs = softmax(scores)\n",
    "\n",
    "    # Compute loss\n",
    "    loss = -np.sum(Y_train * np.log(probs+epsilon)) / X_train.shape[0]\n",
    "\n",
    "    # Backward pass\n",
    "    delta = probs - Y_train\n",
    "    dW = np.dot(X_train.T, delta)\n",
    "    db = np.sum(delta, axis=0)\n",
    "\n",
    "    # Update parameters\n",
    "    W -= learning_rate * dW\n",
    "    b -= learning_rate * db\n",
    "\n",
    "    # Print loss for monitoring\n",
    "    if epoch % 100 == 0:\n",
    "        print(f\"Epoch {epoch}, Loss: {loss}\")\n",
    "\n",
    "# Now you can use W and b for predictions"
   ]
  },
  {
   "cell_type": "code",
   "execution_count": 124,
   "metadata": {},
   "outputs": [
    {
     "name": "stdout",
     "output_type": "stream",
     "text": [
      "(1, 4)\n",
      "(1, 1600)\n",
      "(1, 1605)\n",
      "3\n"
     ]
    }
   ],
   "source": [
    "test_diagram, y = test_samples[0]\n",
    "test_diagram = test_diagram[0]\n",
    "test_diagram_flat = test_diagram.flatten()\n",
    "train = np.array(test_diagram_flat)\n",
    "train = train.reshape(1, 1600)\n",
    "additional_features = [test_diagram.sum(axis=(0, 1))]\n",
    "additional_features = np.array(additional_features) \n",
    "print(additional_features.shape)\n",
    "print(train.shape)\n",
    "X_combined = np.concatenate((train, additional_features), axis=1)\n",
    "X_test = np.c_[X_combined, np.ones(X_combined.shape[0])]\n",
    "\n",
    "\n",
    "print(X_test.shape)\n",
    "print(y)"
   ]
  },
  {
   "cell_type": "code",
   "execution_count": 125,
   "metadata": {},
   "outputs": [
    {
     "name": "stdout",
     "output_type": "stream",
     "text": [
      "Predicted Class: 3\n"
     ]
    }
   ],
   "source": [
    "# Assuming X_test_single is your preprocessed single test example\n",
    "# Forward pass\n",
    "scores_single = np.dot(X_test, W) + b\n",
    "probs_single = softmax(scores_single)\n",
    "\n",
    "# Predictions\n",
    "predicted_class = np.argmax(probs_single) + 1  # Adding 1 to convert from 0-based to 1-based labels\n",
    "\n",
    "print(f\"Predicted Class: {predicted_class}\")"
   ]
  }
 ],
 "metadata": {
  "kernelspec": {
   "display_name": "Python 3",
   "language": "python",
   "name": "python3"
  },
  "language_info": {
   "codemirror_mode": {
    "name": "ipython",
    "version": 3
   },
   "file_extension": ".py",
   "mimetype": "text/x-python",
   "name": "python",
   "nbconvert_exporter": "python",
   "pygments_lexer": "ipython3",
   "version": "3.11.5"
  }
 },
 "nbformat": 4,
 "nbformat_minor": 2
}
